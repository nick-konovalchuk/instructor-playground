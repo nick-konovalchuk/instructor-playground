{
 "cells": [
  {
   "cell_type": "code",
   "execution_count": 11,
   "id": "c9004513-fdf5-4c88-a967-3e50d16a7678",
   "metadata": {},
   "outputs": [],
   "source": [
    "import platform"
   ]
  },
  {
   "cell_type": "code",
   "execution_count": 13,
   "id": "8d773758-e1ad-46aa-94e1-2a1435e06693",
   "metadata": {},
   "outputs": [
    {
     "name": "stdout",
     "output_type": "stream",
     "text": [
      "Linux-5.15.0-100-generic-x86_64-with-glibc2.31\n"
     ]
    }
   ],
   "source": [
    "print(platform.platform())"
   ]
  },
  {
   "cell_type": "code",
   "execution_count": null,
   "id": "896f0cf0-4813-48b4-bf70-3801ded376dc",
   "metadata": {},
   "outputs": [],
   "source": []
  }
 ],
 "metadata": {
  "kernelspec": {
   "display_name": "Python 3 (ipykernel)",
   "language": "python",
   "name": "python3"
  },
  "language_info": {
   "codemirror_mode": {
    "name": "ipython",
    "version": 3
   },
   "file_extension": ".py",
   "mimetype": "text/x-python",
   "name": "python",
   "nbconvert_exporter": "python",
   "pygments_lexer": "ipython3",
   "version": "3.10.13"
  }
 },
 "nbformat": 4,
 "nbformat_minor": 5
}
