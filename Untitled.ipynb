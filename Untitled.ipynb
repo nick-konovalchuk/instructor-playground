{
 "cells": [
  {
   "cell_type": "code",
   "execution_count": 12,
   "id": "069a6d91-8c72-4b8e-af67-48ee992583f9",
   "metadata": {},
   "outputs": [],
   "source": [
    "import os\n",
    "\n",
    "from dotenv import find_dotenv\n",
    "from dotenv import load_dotenv\n",
    "import instructor\n",
    "from openai import AzureOpenAI\n",
    "from pydantic import BaseModel\n",
    "from pydantic import Field\n",
    "\n",
    "\n",
    "load_dotenv(find_dotenv())\n",
    "DEPLOYMENT = os.getenv(\"AZURE_OPENAI_DEPLOYMENT\")"
   ]
  },
  {
   "cell_type": "code",
   "execution_count": 2,
   "id": "896f0cf0-4813-48b4-bf70-3801ded376dc",
   "metadata": {},
   "outputs": [],
   "source": [
    "client = AzureOpenAI(\n",
    "    azure_endpoint=os.getenv(\"AZURE_OPENAI_ENDPOINT\"),\n",
    "    api_key=os.getenv(\"AZURE_OPENAI_API_KEY\"),\n",
    "    api_version=\"2023-05-15\",\n",
    ")\n",
    "client = instructor.patch(client, mode=instructor.Mode.FUNCTIONS)"
   ]
  },
  {
   "cell_type": "code",
   "execution_count": 18,
   "id": "3ca97bd7-f9d5-45e6-ba1c-e59bb95c1eb5",
   "metadata": {},
   "outputs": [],
   "source": [
    "class Person(BaseModel):\n",
    "    \"\"\"A Person\"\"\"\n",
    "\n",
    "    name: str = Field(description=\"The full name\")\n",
    "    occupation: str = Field(description=\"A short description of occupation \")"
   ]
  },
  {
   "cell_type": "code",
   "execution_count": 21,
   "id": "a0c7765b-8091-40e6-80d5-5c4c568fc400",
   "metadata": {},
   "outputs": [
    {
     "data": {
      "text/plain": [
       "Person(name='David', occupation='second king of the united Kingdom of Israel and Judah')"
      ]
     },
     "execution_count": 21,
     "metadata": {},
     "output_type": "execute_result"
    }
   ],
   "source": [
    "out = client.chat.completions.create(\n",
    "    model=DEPLOYMENT,\n",
    "    messages=[\n",
    "        {\n",
    "            \"role\": \"user\",\n",
    "            \"content\": \"\"\"Who is David from the Bible?\"\"\",\n",
    "        },\n",
    "    ],\n",
    "    response_model=Person,\n",
    "    temperature=0,\n",
    ")\n",
    "out"
   ]
  },
  {
   "cell_type": "code",
   "execution_count": null,
   "id": "1314de58-a627-4e00-ae81-220b1ec23093",
   "metadata": {},
   "outputs": [],
   "source": []
  }
 ],
 "metadata": {
  "kernelspec": {
   "display_name": "Python 3 (ipykernel)",
   "language": "python",
   "name": "python3"
  },
  "language_info": {
   "codemirror_mode": {
    "name": "ipython",
    "version": 3
   },
   "file_extension": ".py",
   "mimetype": "text/x-python",
   "name": "python",
   "nbconvert_exporter": "python",
   "pygments_lexer": "ipython3",
   "version": "3.10.13"
  }
 },
 "nbformat": 4,
 "nbformat_minor": 5
}
