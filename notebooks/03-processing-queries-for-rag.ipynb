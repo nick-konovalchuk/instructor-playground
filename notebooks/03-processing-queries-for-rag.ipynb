{
 "cells": [
  {
   "cell_type": "markdown",
   "id": "52948225-c1e4-4725-8e9a-f7f7aa159412",
   "metadata": {},
   "source": [
    "# Setup"
   ]
  },
  {
   "cell_type": "code",
   "execution_count": 5,
   "id": "ce956ad0-2ad4-446a-b3b9-89b2e895c118",
   "metadata": {},
   "outputs": [],
   "source": [
    "import os\n",
    "from pprint import pprint\n",
    "from typing import Dict\n",
    "from typing import Iterable\n",
    "from typing import List\n",
    "\n",
    "from dotenv import find_dotenv\n",
    "from dotenv import load_dotenv\n",
    "import instructor\n",
    "from openai import AzureOpenAI\n",
    "from pydantic import BaseModel\n",
    "from pydantic import Field\n",
    "\n",
    "\n",
    "load_dotenv(find_dotenv())\n",
    "DEPLOYMENT = os.getenv(\"AZURE_OPENAI_DEPLOYMENT\")\n",
    "client = AzureOpenAI(\n",
    "    azure_endpoint=os.getenv(\"AZURE_OPENAI_ENDPOINT\"),\n",
    "    api_key=os.getenv(\"AZURE_OPENAI_API_KEY\"),\n",
    "    api_version=\"2023-05-15\",\n",
    ")\n",
    "client = instructor.patch(client)"
   ]
  },
  {
   "cell_type": "code",
   "execution_count": 66,
   "id": "859e3e5d-a25e-4ba7-9c16-6e4da0722a36",
   "metadata": {},
   "outputs": [],
   "source": [
    "def get_completion(\n",
    "    messages: List[Dict[str, str]],\n",
    "    response_model: BaseModel | Iterable[BaseModel],\n",
    "    stream: bool = False,\n",
    "    client: AzureOpenAI = client,\n",
    ") -> BaseModel | Iterable[BaseModel]:\n",
    "    return client.chat.completions.create(\n",
    "        model=DEPLOYMENT,\n",
    "        messages=messages,\n",
    "        response_model=response_model,\n",
    "        temperature=0,\n",
    "        stream=stream,\n",
    "    )"
   ]
  },
  {
   "cell_type": "markdown",
   "id": "7445dbf9-123e-49a9-b70e-62237ce32556",
   "metadata": {},
   "source": [
    "# Improving Extractions"
   ]
  },
  {
   "cell_type": "code",
   "execution_count": 3,
   "id": "d98993a7-e2b9-4a48-b4ac-fbe2bbd88f91",
   "metadata": {},
   "outputs": [],
   "source": [
    "class Extraction(BaseModel):\n",
    "    topic: str\n",
    "    summary: str\n",
    "    hypothetical_questions: List[str] = Field(\n",
    "        default_factory=list,\n",
    "        description=\"Hypothetical questions that this document could answer\",\n",
    "    )\n",
    "    keywords: List[str] = Field(\n",
    "        default_factory=list, description=\"Keywords that this document is about\"\n",
    "    )"
   ]
  },
  {
   "cell_type": "code",
   "execution_count": 46,
   "id": "57a37806-12c5-4fd9-94db-a92230ee7c3e",
   "metadata": {},
   "outputs": [],
   "source": [
    "# Chapter 1 by itself gets censored, lol\n",
    "with open(\"../resources/romans1.txt\") as f:\n",
    "    text1 = f.read()\n",
    "\n",
    "with open(\"../resources/romans2.txt\") as f:\n",
    "    text2 = f.read()\n",
    "\n",
    "text = \"Chapter1\\n\\n\" + text1 + \"\\nChapter 2\\n\\n\" + text2"
   ]
  },
  {
   "cell_type": "code",
   "execution_count": 47,
   "id": "a797d14e-3d18-4985-b666-82a808af1d4e",
   "metadata": {},
   "outputs": [],
   "source": [
    "messages = [\n",
    "    {\n",
    "        \"role\": \"system\",\n",
    "        \"content\": \"\"\"\\\n",
    "            You are a text processing system.\n",
    "            You don't have any opinions and a capability to interpret.\n",
    "            You need to extract chunks from the following text and create a set of topics.\n",
    "            \"\"\",\n",
    "    },\n",
    "    {\"role\": \"user\", \"content\": text},\n",
    "]"
   ]
  },
  {
   "cell_type": "code",
   "execution_count": 48,
   "id": "688fc3a7-7aaa-4529-a564-b339f41e406b",
   "metadata": {},
   "outputs": [],
   "source": [
    "extractions = get_completion(\n",
    "    messages,\n",
    "    Iterable[Extraction],\n",
    ")"
   ]
  },
  {
   "cell_type": "code",
   "execution_count": 60,
   "id": "d834ceeb-ff89-4911-925c-707249d1de8a",
   "metadata": {},
   "outputs": [
    {
     "name": "stdout",
     "output_type": "stream",
     "text": [
      "{'hypothetical_questions': [\"What triggers God's wrath according to Paul?\",\n",
      "                            \"How do people suppress the truth in Paul's view?\",\n",
      "                            'What are the consequences of not honoring God as '\n",
      "                            'described by Paul?'],\n",
      " 'keywords': [\"God's wrath\",\n",
      "              'sinful humanity',\n",
      "              'suppress the truth',\n",
      "              'godlessness',\n",
      "              'wickedness',\n",
      "              'sinful desires',\n",
      "              'depraved mind'],\n",
      " 'summary': \"Paul speaks of God's wrath being revealed against all godlessness \"\n",
      "            'and wickedness of people who suppress the truth. He describes how '\n",
      "            'they knew God but did not honor Him, leading to their foolish '\n",
      "            'hearts being darkened and God giving them over to sinful desires '\n",
      "            'and a depraved mind.',\n",
      " 'topic': \"God's Wrath Against Sinful Humanity\"}\n",
      "{'hypothetical_questions': ['What does Paul say about judging others?',\n",
      "                            \"How does Paul describe God's judgment?\",\n",
      "                            \"What is the role of the law in God's judgment \"\n",
      "                            'according to Paul?'],\n",
      " 'keywords': ['judging others',\n",
      "              \"God's judgment\",\n",
      "              'truth',\n",
      "              'deeds',\n",
      "              'favoritism',\n",
      "              'law',\n",
      "              'hearts',\n",
      "              'Gentiles'],\n",
      " 'summary': 'Paul warns against judging others, as it brings judgment upon '\n",
      "            \"oneself. He explains that God's judgment is based on truth and \"\n",
      "            'that He will repay each person according to their deeds. Paul '\n",
      "            'emphasizes that God does not show favoritism and that the law is '\n",
      "            'written on the hearts of Gentiles as well.',\n",
      " 'topic': \"God's Righteous Judgment\"}\n",
      "{'hypothetical_questions': [\"What is Paul's message to the Jews regarding the \"\n",
      "                            'law?',\n",
      "                            \"How does Paul challenge the Jews' adherence to \"\n",
      "                            'the law?',\n",
      "                            'What does Paul say about true Jewishness and '\n",
      "                            'circumcision?'],\n",
      " 'keywords': ['Jews',\n",
      "              'law',\n",
      "              'teachers',\n",
      "              'hypocrisy',\n",
      "              'breaking the law',\n",
      "              'Jewishness',\n",
      "              'circumcision',\n",
      "              'heart',\n",
      "              'Spirit'],\n",
      " 'summary': 'Paul addresses the Jews, highlighting their reliance on the law '\n",
      "            'and their role as teachers. He challenges them to live by what '\n",
      "            'they teach and points out the hypocrisy of breaking the law while '\n",
      "            'boasting in it. He concludes that true Jewishness and '\n",
      "            'circumcision are matters of the heart, by the Spirit.',\n",
      " 'topic': 'The Jews and the Law'}\n"
     ]
    }
   ],
   "source": [
    "for e in extractions[3:]:\n",
    "    pprint(e.model_dump())"
   ]
  },
  {
   "cell_type": "markdown",
   "id": "be7e4723-5b5e-435c-bb19-d485ea27b982",
   "metadata": {},
   "source": [
    "# Adding temporal window context"
   ]
  },
  {
   "cell_type": "markdown",
   "id": "a2d65006-822b-48e6-b837-f17e49f4d6c1",
   "metadata": {},
   "source": [
    "## Plain query"
   ]
  },
  {
   "cell_type": "code",
   "execution_count": 63,
   "id": "cacf2438-a3e8-4138-b061-41f0d977711b",
   "metadata": {},
   "outputs": [],
   "source": [
    "from datetime import date\n",
    "\n",
    "\n",
    "class DateRange(BaseModel):\n",
    "    start: date\n",
    "    end: date\n",
    "\n",
    "\n",
    "class Query(BaseModel):\n",
    "    rewritten_query: str\n",
    "    published_daterange: DateRange"
   ]
  },
  {
   "cell_type": "code",
   "execution_count": 80,
   "id": "2554a8ef-6601-43e3-b473-92785fe808ac",
   "metadata": {},
   "outputs": [],
   "source": [
    "# AzureOpenAI models do not seem to be capable of searching the web by themselves.\n",
    "# Thus have to add \"Today is ...\"\n",
    "query = \"What are the Biblical events that happened on dates not too far from today?\"\n",
    "\n",
    "messages = [\n",
    "    {\n",
    "        \"role\": \"system\",\n",
    "        \"content\": f\"\"\"\\\n",
    "            You are a system that updates queries with additional context for a search engine.\n",
    "            Today is {date.today()}\n",
    "            Update the following query.\n",
    "            \"\"\",\n",
    "    },\n",
    "    {\"role\": \"user\", \"content\": query},\n",
    "]"
   ]
  },
  {
   "cell_type": "code",
   "execution_count": 81,
   "id": "ccc5053d-6e81-4695-8927-4a3510bc4189",
   "metadata": {},
   "outputs": [
    {
     "name": "stdout",
     "output_type": "stream",
     "text": [
      "{'published_daterange': {'end': datetime.date(2024, 3, 31),\n",
      "                         'start': datetime.date(2024, 3, 1)},\n",
      " 'rewritten_query': 'Biblical events that happened around March'}\n"
     ]
    }
   ],
   "source": [
    "rewritten_query = get_completion(messages=messages, response_model=Query)\n",
    "pprint(rewritten_query.model_dump())"
   ]
  },
  {
   "cell_type": "markdown",
   "id": "bb7f0713-4854-429b-90b2-e3184773e5eb",
   "metadata": {},
   "source": [
    "## Chain of Thoughts"
   ]
  },
  {
   "cell_type": "code",
   "execution_count": 92,
   "id": "4f2a6bab-7a66-40bb-bd00-9ba1db55c89a",
   "metadata": {},
   "outputs": [],
   "source": [
    "class DateRangeWithCOT(DateRange):\n",
    "    chain_of_thought: str = Field(\n",
    "        description=\"\"\"/\n",
    "        Write down 5 bullet points that would help you to provide a better date range.\n",
    "        Use them to think step by step.\n",
    "        \"\"\"\n",
    "    )\n",
    "\n",
    "\n",
    "class QueryWithCOT(BaseModel):\n",
    "    rewritten_query: str = Field(description=\"Rewrite the query to make it more specific\")\n",
    "    published_daterange: DateRangeWithCOT = Field(description=\"Effective date range to search in\")"
   ]
  },
  {
   "cell_type": "code",
   "execution_count": 93,
   "id": "d6d5e196-1ea4-4d46-bfc5-cacee8e84b59",
   "metadata": {},
   "outputs": [
    {
     "name": "stdout",
     "output_type": "stream",
     "text": [
      "{'published_daterange': {'chain_of_thought': 'Since the user is asking for '\n",
      "                                             'events not too far from today, '\n",
      "                                             'which is 2024-03-13, a '\n",
      "                                             'reasonable date range to '\n",
      "                                             'consider would be the entire '\n",
      "                                             'month of March 2024. This will '\n",
      "                                             'capture any Biblical events that '\n",
      "                                             'are traditionally observed or '\n",
      "                                             'commemorated during this time '\n",
      "                                             'period. The Bible itself does '\n",
      "                                             'not provide specific Gregorian '\n",
      "                                             'calendar dates for events, but '\n",
      "                                             'some events are tied to Jewish '\n",
      "                                             'holidays or Christian '\n",
      "                                             'observances that fall around '\n",
      "                                             'this time of year.',\n",
      "                         'end': datetime.date(2024, 3, 31),\n",
      "                         'start': datetime.date(2024, 3, 1)},\n",
      " 'rewritten_query': 'List of Biblical events that occurred around mid-March'}\n"
     ]
    }
   ],
   "source": [
    "rewritten_query = get_completion(messages=messages, response_model=QueryWithCOT)\n",
    "pprint(rewritten_query.model_dump())"
   ]
  }
 ],
 "metadata": {
  "kernelspec": {
   "display_name": "Python 3 (ipykernel)",
   "language": "python",
   "name": "python3"
  },
  "language_info": {
   "codemirror_mode": {
    "name": "ipython",
    "version": 3
   },
   "file_extension": ".py",
   "mimetype": "text/x-python",
   "name": "python",
   "nbconvert_exporter": "python",
   "pygments_lexer": "ipython3",
   "version": "3.10.13"
  }
 },
 "nbformat": 4,
 "nbformat_minor": 5
}
