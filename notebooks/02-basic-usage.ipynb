{
 "cells": [
  {
   "cell_type": "markdown",
   "id": "b30650f2-5d12-4599-b713-7e8d2526085b",
   "metadata": {},
   "source": [
    "# Setup"
   ]
  },
  {
   "cell_type": "code",
   "execution_count": 73,
   "id": "a7b034fa-9d28-42c5-98c2-7d6963041839",
   "metadata": {},
   "outputs": [],
   "source": [
    "import os\n",
    "from pprint import pprint\n",
    "from typing import Iterable\n",
    "from typing import List\n",
    "from typing import Literal\n",
    "from typing import Optional\n",
    "\n",
    "from dotenv import find_dotenv\n",
    "from dotenv import load_dotenv\n",
    "import instructor\n",
    "from openai import AzureOpenAI\n",
    "from pydantic import BaseModel\n",
    "from pydantic import Field\n",
    "\n",
    "\n",
    "load_dotenv(find_dotenv())\n",
    "DEPLOYMENT = os.getenv(\"AZURE_OPENAI_DEPLOYMENT\")\n",
    "client = AzureOpenAI(\n",
    "    azure_endpoint=os.getenv(\"AZURE_OPENAI_ENDPOINT\"),\n",
    "    api_key=os.getenv(\"AZURE_OPENAI_API_KEY\"),\n",
    "    api_version=\"2024-02-01\",\n",
    ")\n",
    "client = instructor.patch(client, mode=instructor.Mode.FUNCTIONS)"
   ]
  },
  {
   "cell_type": "code",
   "execution_count": 47,
   "id": "0e58e55f-35b7-440d-80d8-ef1b3b7b4ffc",
   "metadata": {},
   "outputs": [],
   "source": [
    "def get_completion(\n",
    "    prompt: str,\n",
    "    response_model: BaseModel | Iterable[BaseModel],\n",
    "    stream: bool = False,\n",
    "    client: AzureOpenAI = client,\n",
    ") -> BaseModel | Iterable[BaseModel]:\n",
    "    return client.chat.completions.create(\n",
    "        model=DEPLOYMENT,\n",
    "        messages=[{\"role\": \"user\", \"content\": prompt}],\n",
    "        response_model=response_model,\n",
    "        temperature=0,\n",
    "        stream=stream,\n",
    "    )"
   ]
  },
  {
   "cell_type": "markdown",
   "id": "f22204cd-32e8-47bd-91a6-13f11545c8d1",
   "metadata": {},
   "source": [
    "# Classification"
   ]
  },
  {
   "cell_type": "code",
   "execution_count": 34,
   "id": "6455fd83-9dfb-47b1-950b-d2bb1024cb9c",
   "metadata": {},
   "outputs": [
    {
     "data": {
      "text/plain": [
       "BiblicalPersonLiteral(name='Elijah', kingdom='Israel')"
      ]
     },
     "execution_count": 34,
     "metadata": {},
     "output_type": "execute_result"
    }
   ],
   "source": [
    "class BiblicalPersonLiteral(BaseModel):\n",
    "    \"\"\"A Person from the Bible\"\"\"\n",
    "\n",
    "    name: str = Field(description=\"The full name\")\n",
    "    kingdom: Literal[\"Israel\", \"Judah\"]\n",
    "\n",
    "\n",
    "resp = get_completion(\"Elijah\", BiblicalPersonLiteral)\n",
    "resp"
   ]
  },
  {
   "cell_type": "code",
   "execution_count": 33,
   "id": "2d5c6d05-0361-4403-8682-c1e569159326",
   "metadata": {},
   "outputs": [
    {
     "data": {
      "text/plain": [
       "BiblicalPersonEnum(name='Elijah', kingdom=<Kingdom.Israel: 'Israel'>)"
      ]
     },
     "execution_count": 33,
     "metadata": {},
     "output_type": "execute_result"
    }
   ],
   "source": [
    "from enum import Enum\n",
    "\n",
    "\n",
    "class Kingdom(Enum):\n",
    "    Israel = \"Israel\"\n",
    "    Judah = \"Judah\"\n",
    "\n",
    "\n",
    "class BiblicalPersonEnum(BaseModel):\n",
    "    \"\"\"A Person from the Bible\"\"\"\n",
    "\n",
    "    name: str = Field(description=\"The full name\")\n",
    "    kingdom: Kingdom\n",
    "\n",
    "\n",
    "resp = get_completion(\"Elijah\", BiblicalPersonEnum)\n",
    "resp"
   ]
  },
  {
   "cell_type": "markdown",
   "id": "30f9e8cb-bbed-475f-ae1f-93ea0b0c988c",
   "metadata": {},
   "source": [
    "# Arbitrary properties"
   ]
  },
  {
   "cell_type": "code",
   "execution_count": 35,
   "id": "79e79296-6118-4558-8b9e-b3671db10763",
   "metadata": {},
   "outputs": [],
   "source": [
    "class Property(BaseModel):\n",
    "    key: str\n",
    "    value: str\n",
    "\n",
    "\n",
    "class BiblicalPersonProperties(BiblicalPersonLiteral):\n",
    "    properties: List[Property]"
   ]
  },
  {
   "cell_type": "code",
   "execution_count": 36,
   "id": "94468000-200c-4b04-b0d3-53c476ed0d01",
   "metadata": {},
   "outputs": [
    {
     "name": "stdout",
     "output_type": "stream",
     "text": [
      "{'kingdom': 'Israel',\n",
      " 'name': 'Elijah',\n",
      " 'properties': [{'key': 'Occupation', 'value': 'Prophet'},\n",
      "                {'key': 'Lifespan', 'value': '9th century BC'},\n",
      "                {'key': 'Notable Events',\n",
      "                 'value': 'Confrontation with Ahab, contest with the prophets '\n",
      "                          'of Baal, being taken up to heaven in a whirlwind'},\n",
      "                {'key': 'Associated Miracles',\n",
      "                 'value': \"Causing a drought, raising the widow's son, calling \"\n",
      "                          'down fire from heaven'},\n",
      "                {'key': 'Mentor', 'value': 'God'},\n",
      "                {'key': 'Successor', 'value': 'Elisha'}]}\n"
     ]
    }
   ],
   "source": [
    "resp = get_completion(\"Elijah\", BiblicalPersonProperties)\n",
    "\n",
    "pprint(resp.model_dump())"
   ]
  },
  {
   "cell_type": "markdown",
   "id": "30bacc4f-09c3-49df-9d89-f5641c1cf898",
   "metadata": {},
   "source": [
    "## Limited amount of properties"
   ]
  },
  {
   "cell_type": "code",
   "execution_count": 37,
   "id": "38999d34-fea5-4bc4-8633-7ac8188b06aa",
   "metadata": {},
   "outputs": [],
   "source": [
    "class PropertyWithId(BaseModel):\n",
    "    index: str = Field(description=\"Monotonically increasing int starting from 1\")\n",
    "    key: str\n",
    "    value: str\n",
    "\n",
    "\n",
    "class BiblicalPersonLimitedProperties(BiblicalPersonLiteral):\n",
    "    properties: List[PropertyWithId] = Field(\n",
    "        description=\"Numbered list of properties. Max length is 3\"\n",
    "    )"
   ]
  },
  {
   "cell_type": "code",
   "execution_count": 38,
   "id": "34f1dbca-4bb3-47b1-9d3d-de4efea4a34e",
   "metadata": {},
   "outputs": [
    {
     "name": "stdout",
     "output_type": "stream",
     "text": [
      "{'kingdom': 'Israel',\n",
      " 'name': 'Elijah',\n",
      " 'properties': [{'index': '1',\n",
      "                 'key': 'Prophet',\n",
      "                 'value': 'Elijah was a prophet in the northern kingdom of '\n",
      "                          'Israel during the reign of Ahab.'},\n",
      "                {'index': '2',\n",
      "                 'key': 'Miracles',\n",
      "                 'value': 'He performed miracles, including raising the dead, '\n",
      "                          'bringing fire down from the sky, and causing a '\n",
      "                          'drought.'},\n",
      "                {'index': '3',\n",
      "                 'key': 'Contest at Mount Carmel',\n",
      "                 'value': 'Elijah challenged the prophets of Baal to a contest '\n",
      "                          'at Mount Carmel to prove that the Lord is the true '\n",
      "                          'God.'}]}\n"
     ]
    }
   ],
   "source": [
    "resp = get_completion(\"Elijah\", BiblicalPersonLimitedProperties)\n",
    "\n",
    "pprint(resp.model_dump())"
   ]
  },
  {
   "cell_type": "markdown",
   "id": "6c1516cd-f2b2-4f29-9336-931fd08b6c58",
   "metadata": {},
   "source": [
    "# List of entities"
   ]
  },
  {
   "cell_type": "code",
   "execution_count": 57,
   "id": "cc5f9eaf-d8a3-4e2e-980b-74d34a616178",
   "metadata": {},
   "outputs": [],
   "source": [
    "from time import monotonic"
   ]
  },
  {
   "cell_type": "code",
   "execution_count": 67,
   "id": "5ae86135-b60d-4aee-b847-7f9fd3234c14",
   "metadata": {},
   "outputs": [
    {
     "name": "stdout",
     "output_type": "stream",
     "text": [
      "Time diff: 0.7, entity: name='Isaiah' kingdom='Judah'\n",
      "Time diff: 0.6, entity: name='Jeremiah' kingdom='Judah'\n",
      "Time diff: 0.6, entity: name='Ezekiel' kingdom='Israel'\n",
      "Time diff: 0.4, entity: name='Daniel' kingdom='Israel'\n",
      "Time diff: 0.5, entity: name='Hosea' kingdom='Israel'\n",
      "Time diff: 0.5, entity: name='Joel' kingdom='Judah'\n",
      "Time diff: 0.5, entity: name='Amos' kingdom='Israel'\n",
      "Time diff: 0.5, entity: name='Obadiah' kingdom='Judah'\n",
      "Time diff: 0.5, entity: name='Jonah' kingdom='Israel'\n",
      "Time diff: 0.5, entity: name='Micah' kingdom='Judah'\n",
      "Time diff: 0.8, entity: name='Nahum' kingdom='Israel'\n",
      "Time diff: 1.0, entity: name='Habakkuk' kingdom='Judah'\n",
      "Time diff: 1.1, entity: name='Zephaniah' kingdom='Judah'\n",
      "Time diff: 0.7, entity: name='Haggai' kingdom='Judah'\n",
      "Time diff: 1.3, entity: name='Zechariah' kingdom='Judah'\n",
      "Time diff: 0.6, entity: name='Malachi' kingdom='Judah'\n"
     ]
    }
   ],
   "source": [
    "resp = get_completion(\n",
    "    \"The prophets of the Old Testament\", Iterable[BiblicalPersonLiteral], stream=True\n",
    ")\n",
    "\n",
    "t1 = monotonic()\n",
    "for i in resp:\n",
    "    t2 = monotonic()\n",
    "    print(f\"Time diff: {t2-t1:.1f}, entity: {i}\")\n",
    "    t1 = t2"
   ]
  },
  {
   "cell_type": "markdown",
   "id": "317eef9b-dd6e-4d13-94f6-53cf372b2786",
   "metadata": {},
   "source": [
    "# Relationships"
   ]
  },
  {
   "cell_type": "code",
   "execution_count": 72,
   "id": "b777af18-5440-43ad-9d1c-f4efabf21d18",
   "metadata": {},
   "outputs": [
    {
     "name": "stdout",
     "output_type": "stream",
     "text": [
      "Time diff: 1.0\n",
      "id=1 name='Elijah' enemies=[2]\n",
      "\n",
      "Time diff: 2.0\n",
      "id=2 name='Ahab' enemies=[1]\n",
      "\n",
      "Time diff: 1.0\n",
      "id=3 name='John the Baptist' enemies=[4]\n",
      "\n",
      "Time diff: 1.1\n",
      "id=4 name='Herod Antipas' enemies=[3]\n",
      "\n"
     ]
    }
   ],
   "source": [
    "class BiblicalPersonWithRelationships(BaseModel):\n",
    "    id: int\n",
    "    name: str\n",
    "    enemies: List[int] = Field(description=\"Relationships to the enemies and opponents\")\n",
    "\n",
    "\n",
    "resp = get_completion(\n",
    "    \"Elijah, John the Baptist, Ahab, Herod Antipas\",\n",
    "    Iterable[BiblicalPersonWithRelationships],\n",
    "    stream=True,\n",
    ")\n",
    "\n",
    "t1 = monotonic()\n",
    "for i in resp:\n",
    "    t2 = monotonic()\n",
    "    print(f\"Time diff: {t2-t1:.1f}\\n{i}\\n\")\n",
    "    t1 = t2"
   ]
  },
  {
   "cell_type": "markdown",
   "id": "5fea69fc-80c4-45e6-8118-0a7d8aea7bce",
   "metadata": {},
   "source": [
    "# Hallucination handling"
   ]
  },
  {
   "cell_type": "code",
   "execution_count": 87,
   "id": "fa5a0257-5e1b-4517-b038-ed83c9e40eab",
   "metadata": {},
   "outputs": [],
   "source": [
    "class OptionPerson(BaseModel):\n",
    "    result: Optional[BiblicalPersonLiteral] = Field(default=None)\n",
    "    error: bool = Field(\n",
    "        default=False, description=\"`True` if you didn't manage to find a person from the Bible\"\n",
    "    )\n",
    "    message: Optional[str] = Field(\n",
    "        description=\"Description of an error if a person was not parsed\", default=None\n",
    "    )"
   ]
  },
  {
   "cell_type": "code",
   "execution_count": 83,
   "id": "5672e58b-5bce-44e5-bb20-5c9120f07507",
   "metadata": {},
   "outputs": [
    {
     "data": {
      "text/plain": [
       "OptionPerson(result=BiblicalPersonLiteral(name='Elijah', kingdom='Israel'), error=False, message=None)"
      ]
     },
     "execution_count": 83,
     "metadata": {},
     "output_type": "execute_result"
    }
   ],
   "source": [
    "resp = get_completion(\"Elijah\", OptionPerson)\n",
    "\n",
    "resp"
   ]
  },
  {
   "cell_type": "code",
   "execution_count": 88,
   "id": "1de20c96-e1b6-4d5e-9408-cd5be96fb1ad",
   "metadata": {},
   "outputs": [
    {
     "data": {
      "text/plain": [
       "OptionPerson(result=None, error=True, message='The request does not pertain to a Biblical person.')"
      ]
     },
     "execution_count": 88,
     "metadata": {},
     "output_type": "execute_result"
    }
   ],
   "source": [
    "resp = get_completion(\"Minecraft lore\", OptionPerson)\n",
    "\n",
    "resp"
   ]
  }
 ],
 "metadata": {
  "kernelspec": {
   "display_name": "Python 3 (ipykernel)",
   "language": "python",
   "name": "python3"
  },
  "language_info": {
   "codemirror_mode": {
    "name": "ipython",
    "version": 3
   },
   "file_extension": ".py",
   "mimetype": "text/x-python",
   "name": "python",
   "nbconvert_exporter": "python",
   "pygments_lexer": "ipython3",
   "version": "3.10.13"
  }
 },
 "nbformat": 4,
 "nbformat_minor": 5
}
