{
 "cells": [
  {
   "cell_type": "markdown",
   "id": "b30650f2-5d12-4599-b713-7e8d2526085b",
   "metadata": {},
   "source": [
    "# Setup"
   ]
  },
  {
   "cell_type": "code",
   "execution_count": 14,
   "id": "a7b034fa-9d28-42c5-98c2-7d6963041839",
   "metadata": {},
   "outputs": [],
   "source": [
    "import os\n",
    "from typing import Literal\n",
    "\n",
    "from dotenv import find_dotenv\n",
    "from dotenv import load_dotenv\n",
    "import instructor\n",
    "from openai import AzureOpenAI\n",
    "from pydantic import BaseModel\n",
    "from pydantic import Field\n",
    "\n",
    "\n",
    "load_dotenv(find_dotenv())\n",
    "DEPLOYMENT = os.getenv(\"AZURE_OPENAI_DEPLOYMENT\")\n",
    "client = AzureOpenAI(\n",
    "    azure_endpoint=os.getenv(\"AZURE_OPENAI_ENDPOINT\"),\n",
    "    api_key=os.getenv(\"AZURE_OPENAI_API_KEY\"),\n",
    "    api_version=\"2023-05-15\",\n",
    ")\n",
    "client = instructor.patch(client, mode=instructor.Mode.FUNCTIONS)"
   ]
  },
  {
   "cell_type": "markdown",
   "id": "f22204cd-32e8-47bd-91a6-13f11545c8d1",
   "metadata": {},
   "source": [
    "# Classification"
   ]
  },
  {
   "cell_type": "code",
   "execution_count": 15,
   "id": "6455fd83-9dfb-47b1-950b-d2bb1024cb9c",
   "metadata": {},
   "outputs": [
    {
     "data": {
      "text/plain": [
       "BiblicalPersonLiteral(name='Elijah', kingdom='Israel')"
      ]
     },
     "execution_count": 15,
     "metadata": {},
     "output_type": "execute_result"
    }
   ],
   "source": [
    "class BiblicalPersonLiteral(BaseModel):\n",
    "    \"\"\"A Person from the Bible\"\"\"\n",
    "\n",
    "    name: str = Field(description=\"The full name\")\n",
    "    kingdom: Literal[\"Israel\", \"Judah\"]\n",
    "\n",
    "\n",
    "resp = client.chat.completions.create(\n",
    "    model=DEPLOYMENT,\n",
    "    messages=[{\"role\": \"user\", \"content\": \"Elijah\"}],\n",
    "    response_model=BiblicalPersonLiteral,\n",
    "    temperature=0,\n",
    ")\n",
    "resp"
   ]
  },
  {
   "cell_type": "code",
   "execution_count": 16,
   "id": "2d5c6d05-0361-4403-8682-c1e569159326",
   "metadata": {},
   "outputs": [
    {
     "data": {
      "text/plain": [
       "BiblicalPersonEnum(name='Elijah', kingdom=<Kingdom.Israel: 'Israel'>)"
      ]
     },
     "execution_count": 16,
     "metadata": {},
     "output_type": "execute_result"
    }
   ],
   "source": [
    "from enum import Enum\n",
    "\n",
    "\n",
    "class Kingdom(Enum):\n",
    "    Israel = \"Israel\"\n",
    "    Judah = \"Judah\"\n",
    "\n",
    "\n",
    "class BiblicalPersonEnum(BaseModel):\n",
    "    \"\"\"A Person from the Bible\"\"\"\n",
    "\n",
    "    name: str = Field(description=\"The full name\")\n",
    "    kingdom: Kingdom\n",
    "\n",
    "\n",
    "resp = client.chat.completions.create(\n",
    "    model=DEPLOYMENT,\n",
    "    messages=[{\"role\": \"user\", \"content\": \"Elijah\"}],\n",
    "    response_model=BiblicalPersonEnum,\n",
    "    temperature=0,\n",
    ")\n",
    "resp"
   ]
  },
  {
   "cell_type": "code",
   "execution_count": null,
   "id": "c1655912-1c7f-48de-a159-837edecfceea",
   "metadata": {},
   "outputs": [],
   "source": []
  }
 ],
 "metadata": {
  "kernelspec": {
   "display_name": "Python 3 (ipykernel)",
   "language": "python",
   "name": "python3"
  },
  "language_info": {
   "codemirror_mode": {
    "name": "ipython",
    "version": 3
   },
   "file_extension": ".py",
   "mimetype": "text/x-python",
   "name": "python",
   "nbconvert_exporter": "python",
   "pygments_lexer": "ipython3",
   "version": "3.10.13"
  }
 },
 "nbformat": 4,
 "nbformat_minor": 5
}
